{
 "cells": [
  {
   "cell_type": "markdown",
   "metadata": {
    "nbpresent": {
     "id": "7cc4189a-c8b4-46da-b583-aac5c6b05e88"
    }
   },
   "source": [
    "# 120066 Utilities, Plots, and Analysis \n",
    "\n",
    "- restore MCMC results, performed at the command line\n",
    "    - I suggest you run the MCMC by running `radvel mcmc -s 120066.py -d 2018-5-17` in the 120066 Dropbox directory (replace with current date)\n",
    "- preview plots & save them to a new directory named for the current date in the 120066 Dropbox\n",
    "- upload plots to an Overleaf paper file\n",
    "\n",
    "### To run this notebook:\n",
    "- make sure you have the Dropbox Desktop app installed, and that the path to your copy of the 120066 Dropbox directory is `~/Dropbox/120066_radvel`\n",
    "- make sure you have `radvel` (v1.2.7) and `orbitize` installed (`pip install orbitize radvel --upgrade`). \n",
    "- Sync your Dropbox and Overleaf accounts.\n"
   ]
  },
  {
   "cell_type": "markdown",
   "metadata": {
    "nbpresent": {
     "id": "55b4ecb3-4ce1-4422-95df-074f584f8d67"
    }
   },
   "source": [
    "# Preliminary Imports & Setup"
   ]
  },
  {
   "cell_type": "code",
   "execution_count": 1,
   "metadata": {
    "nbpresent": {
     "id": "d95b8e35-3a65-4c65-b7a0-fc5cbadcac74"
    }
   },
   "outputs": [
    {
     "name": "stderr",
     "output_type": "stream",
     "text": [
      "numpy.dtype size changed, may indicate binary incompatibility. Expected 96, got 88\n",
      "numpy.ufunc size changed, may indicate binary incompatibility. Expected 216, got 192\n"
     ]
    },
    {
     "name": "stdout",
     "output_type": "stream",
     "text": [
      "Populating the interactive namespace from numpy and matplotlib\n"
     ]
    }
   ],
   "source": [
    "import numpy as np\n",
    "import datetime\n",
    "import pandas as pd\n",
    "import os\n",
    "\n",
    "from scipy import optimize\n",
    "\n",
    "from astropy.time import Time\n",
    "from astropy.modeling.blackbody import blackbody_lambda\n",
    "from astropy import units as u\n",
    "\n",
    "from matplotlib import gridspec\n",
    "import matplotlib.cm as cm\n",
    "from matplotlib.collections import LineCollection\n",
    "\n",
    "import corner\n",
    "\n",
    "import radvel\n",
    "from radvel.plot import orbit_plots, mcmc_plots\n",
    "from radvel.driver import load_status\n",
    "from radvel.mcmc import gelman_rubin\n",
    "\n",
    "from orbitize.kepler import calc_orbit\n",
    "\n",
    "import lambertian_contrast as lambc\n",
    "\n",
    "%pylab inline\n",
    "rcParams['font.size'] = 18\n",
    "\n",
    "# change to the directory where all the action is\n",
    "os.chdir(os.environ['HOME'] + '/Dropbox/planet-pi')\n",
    "\n",
    "today = '2019-6-6'\n",
    "todays_directory = today + '/master'\n",
    "\n",
    "# read in data\n",
    "data_cps = pd.read_csv('~/Dropbox/planet-pi/data/120066.txt')\n",
    "data_mcd = pd.read_csv(\n",
    "    '~/Dropbox/planet-pi/data/HD120066_McD.ALL',\n",
    "    names=['time','mnvel','errvel','SVAL','sval_err'], \n",
    "    header=None,\n",
    "    sep='\\s+'\n",
    ")\n",
    "data_mcd['tel']='m'\n",
    "data_mcd['time'] -= 40000.\n",
    "data = pd.concat([data_cps, data_mcd], ignore_index=True)\n",
    "time_offset_from_jd = 2440000.\n",
    "\n",
    "# add on S values for pre-upgrade HIRES\n",
    "svals_preupgrade = pd.read_csv('data/pre_upgrade_svals.csv', comment='#')\n",
    "for i in np.arange(len(data[data.tel == 'k'])):\n",
    "    for j in np.arange(len(svals_preupgrade)):\n",
    "        if np.abs(svals_preupgrade.jd.values[j] - time_offset_from_jd - data.time.values[i]) < .01:\n",
    "            data['SVAL'][i] = svals_preupgrade.sval[j]\n",
    "            data['sval_err'][i] = 0.065*svals_preupgrade.sval[j] # 6.5% error on pre-upgrade svals (Wright+ 2004)\n",
    "\n",
    "data_apf = data[data.tel == 'a']\n",
    "data_j = data[data.tel == 'j']\n",
    "data_k = data[data.tel == 'k']\n",
    "data_hires = data[(data.tel == 'j') | (data.tel == 'k')]"
   ]
  },
  {
   "cell_type": "markdown",
   "metadata": {
    "nbpresent": {
     "id": "79b7ec20-73c9-4749-9301-37a16f77e2d1"
    }
   },
   "source": [
    "# Restore MCMC chains & Posterior Object"
   ]
  },
  {
   "cell_type": "code",
   "execution_count": 2,
   "metadata": {
    "nbpresent": {
     "id": "179488d1-e5fb-4c2f-b550-dd13dfb05516"
    }
   },
   "outputs": [],
   "source": [
    "post_file_name = os.path.join(\n",
    "    os.environ['HOME'] + '/Dropbox/planet-pi/' \n",
    "    + todays_directory + '/','120066_post_obj.pkl'\n",
    ")\n",
    "chains_file_name = os.path.join(\n",
    "    os.environ['HOME'] + '/Dropbox/planet-pi/' \n",
    "    + todays_directory + '/','120066_chains.csv.tar.bz2'\n",
    ")\n",
    "\n",
    "# read in chains\n",
    "df = pd.read_csv(chains_file_name, compression='bz2')\n",
    "\n",
    "# read in posterior object\n",
    "post = radvel.posterior.load(post_file_name)"
   ]
  },
  {
   "cell_type": "markdown",
   "metadata": {
    "nbpresent": {
     "id": "6ca3e3fb-6839-400e-bbf9-1245abda9054"
    }
   },
   "source": [
    "# Calculate Relevant Posteriors Not Fitted by MCMC"
   ]
  },
  {
   "cell_type": "code",
   "execution_count": 3,
   "metadata": {
    "nbpresent": {
     "id": "67e8691c-ee6e-4978-a4dd-49ffd7fd0109"
    }
   },
   "outputs": [],
   "source": [
    "solrad2au = 0.00465047\n",
    "mjup2msun = 0.0009543\n",
    "rjup2rsun = 0.10276269\n",
    "rad2as = 206265. # converts radians to arcsecs\n",
    "\n",
    "# define stellar mass & error, parallax\n",
    "mstar_measured = 1.09\n",
    "mstar_err = 0.06\n",
    "\n",
    "# parallax (mas) from Gaia - from CKS-Gaia Results\n",
    "plx_measured = 31.49\n",
    "plx_err = 0.04\n",
    "\n",
    "# derive msini, semi-major axis, periastron passage distance posteriors\n",
    "df_synth = post.params.basis.to_synth(df)\n",
    "chain_length = len(df_synth['w1'])\n",
    "\n",
    "tp = df_synth['tp1'].values\n",
    "tp_mjd = tp + time_offset_from_jd - 2400000.5\n",
    "per_days = df_synth['per1'].values\n",
    "per_yr = per_days/365.25\n",
    "semiamp = df_synth['k1'].values\n",
    "ecc = df_synth['e1'].values\n",
    "omega_rad = df_synth['w1'].values\n",
    "omega_pl_rad = omega_rad + np.pi\n",
    "omega_deg = omega_rad*180./np.pi\n",
    "\n",
    "# draw from normally distributed stellar mass & parallax distributions\n",
    "mstar = mstar_measured + np.random.normal(scale=mstar_err, size=chain_length)\n",
    "parallax = plx_measured + np.random.normal(scale=plx_err, size=chain_length)\n",
    "\n",
    "# calculate msini\n",
    "msini = radvel.utils.Msini(\n",
    "    semiamp, \n",
    "    per_days, \n",
    "    mstar, \n",
    "    ecc, Msini_units='jupiter'\n",
    ")\n",
    "   \n",
    "# calculate sma (in au)\n",
    "sma = radvel.utils.semi_major_axis(per_days, mstar)\n",
    "\n",
    "# stellar Teff, R* from specmatch results\n",
    "st_teff = np.random.normal(5794.,100., size=chain_length)\n",
    "rstar = np.random.normal(1.53, 0.06, size=chain_length)\n",
    "rstar_au = rstar*solrad2au\n",
    "\n",
    "# calculate T_eq at apo and peri\n",
    "peri_dist = sma * (1. - ecc)\n",
    "apo_dist = sma * (1. + ecc)\n",
    "\n",
    "albedo = 0.5\n",
    "\n",
    "T_eq_peri = st_teff*np.sqrt(rstar_au/(2*peri_dist))*(1-albedo)**0.25\n",
    "T_eq_apo = st_teff*np.sqrt(rstar_au/(2*apo_dist))*(1-albedo)**0.25\n",
    "\n",
    "# define MAP params\n",
    "per_map_days = post.maxparams['per1']\n",
    "per_map_yr = per_map_days/365.25\n",
    "semiamp_map = post.maxparams['k1']\n",
    "ecc_map = post.maxparams['e1']\n",
    "tp_map = post.maxparams['tp1']\n",
    "tp_mjd_map = tp_map + time_offset_from_jd - 2400000.5\n",
    "sma_map = radvel.utils.semi_major_axis(per_map_days, mstar_measured)\n",
    "omega_pl_map_rad = post.maxparams['w1'] + np.pi\n",
    "\n",
    "msini_map = radvel.utils.Msini(\n",
    "    semiamp_map,\n",
    "    per_map_days, \n",
    "    mstar_measured, \n",
    "    ecc_map, Msini_units='jupiter'\n",
    ")"
   ]
  },
  {
   "cell_type": "markdown",
   "metadata": {
    "nbpresent": {
     "id": "c4f3f33c-cb38-4c4b-a498-0a01da6feb63"
    }
   },
   "source": [
    "# Make Some Plots!"
   ]
  },
  {
   "cell_type": "markdown",
   "metadata": {
    "nbpresent": {
     "id": "473558ea-b36f-466f-ae93-ed0ab2231c28"
    }
   },
   "source": [
    "### Trend Plot"
   ]
  },
  {
   "cell_type": "code",
   "execution_count": null,
   "metadata": {
    "nbpresent": {
     "id": "c0a3e4bf-f83f-4e5f-b19f-ae0063bc4789"
    }
   },
   "outputs": [],
   "source": [
    "saveas = todays_directory + '/120066_trend.pdf'\n",
    "mcmcTrend = mcmc_plots.TrendPlot(post, df, 40, outfile=saveas)\n",
    "mcmcTrend.plot()"
   ]
  },
  {
   "cell_type": "markdown",
   "metadata": {
    "nbpresent": {
     "id": "3b316b6c-5283-4411-82cb-bb8afc3caf43"
    }
   },
   "source": [
    "### RV Multipanel Plot"
   ]
  },
  {
   "cell_type": "code",
   "execution_count": 4,
   "metadata": {
    "nbpresent": {
     "id": "79dbd6ff-1a36-4a86-bf73-9aa83ad3a0c7"
    }
   },
   "outputs": [],
   "source": [
    "# create annotations for plot\n",
    "anotext = ''\n",
    "units = {'P': 'yr', 'Msini': '$\\\\mathregular{M_J}$', 'e': ''}\n",
    "val = {\n",
    "    'P': per_map_yr, \n",
    "    'Msini': msini_map, \n",
    "    'e': ecc_map\n",
    "}\n",
    "for item in ['P', 'e', 'Msini']:\n",
    "    anotext += '$\\\\mathregular{%s}$ = %4.2f %s\\n' % (item, val[item], units[item])"
   ]
  },
  {
   "cell_type": "code",
   "execution_count": 5,
   "metadata": {
    "nbpresent": {
     "id": "11e66562-7aa5-48ee-9af6-70269c479566"
    }
   },
   "outputs": [
    {
     "name": "stdout",
     "output_type": "stream",
     "text": [
      "RV multi-panel plot saved to 2019-6-6/master/120066_rvmultipanel.pdf\n"
     ]
    },
    {
     "data": {
      "image/png": "[encoded data removed]",
      "text/plain": [
       "<Figure size 540x648 with 5 Axes>"
      ]
     },
     "metadata": {
      "needs_background": "light"
     },
     "output_type": "display_data"
    }
   ],
   "source": [
    "# preview & save RV multipanel plot\n",
    "rcParams['font.size'] = 8\n",
    "\n",
    "saveas = todays_directory + '/120066_rvmultipanel.pdf'\n",
    "\n",
    "RVPlot = orbit_plots.MultipanelPlot(\n",
    "    post, epoch=time_offset_from_jd, nobin=True, \n",
    "    saveplot= saveas, set_xlim=[10000.,22000.],\n",
    "    telfmts= {\n",
    "        'm': dict(color='red', fmt='*', label='McDONALD'),\n",
    "        'j': dict(fmt='o', color='black', markerfacecolor='none', markeredgewidth=1.0, label='HIRES')\n",
    "    }, yscale_auto=True, legend=False\n",
    ")\n",
    "fig, ax_list = RVPlot.plot_multipanel(nophase=True, letter_labels=False)\n",
    "ax_list[0].legend(numpoints=1, loc='upper left')\n",
    "sca(ax_list[0])\n",
    "radvel.plot.add_anchored(\n",
    "   anotext, loc='upper right', frameon=True, prop=dict(weight='bold'),\n",
    "   bbox=dict(ec='none', fc='w', alpha=0.8)\n",
    ")\n",
    "\n",
    "fig.set_size_inches(7.5,9.)\n",
    "\n",
    "zoom_xlim = [17575.,18700.]\n",
    "ax_list[0].axvspan(zoom_xlim[0],zoom_xlim[1],alpha=0.25,color='grey')\n",
    "ax_list[1].axvspan(zoom_xlim[0],zoom_xlim[1],alpha=0.25,color='grey')\n",
    "\n",
    "RVPlot.set_xlim= zoom_xlim\n",
    "gs_phase = gridspec.GridSpec(1,1)\n",
    "gs_phase.update(\n",
    "    left=0.12, right=0.93,\n",
    "    top=0.34, hspace=0.003,\n",
    "    bottom=0.055\n",
    ")\n",
    "ax_zoom = plt.subplot(gs_phase[0,0])\n",
    "plt.sca(ax_zoom)\n",
    "RVPlot.plot_timeseries()\n",
    "plt.setp(ax_zoom.get_xticklabels(), visible=True)\n",
    "_ = ax_zoom.set_xlabel('JD - {:d}'.format(int(np.round(time_offset_from_jd))), weight='bold')\n",
    "\n",
    "plt.savefig(saveas, dpi=250)"
   ]
  },
  {
   "cell_type": "markdown",
   "metadata": {
    "nbpresent": {
     "id": "430bcf6e-2f82-41ed-a368-58f2a60a5d81"
    }
   },
   "source": [
    "### Corner Plot"
   ]
  },
  {
   "cell_type": "code",
   "execution_count": null,
   "metadata": {
    "nbpresent": {
     "id": "b10c9eee-253b-4c80-9da4-df48dd696e1a"
    }
   },
   "outputs": [],
   "source": [
    "rc('font',size=8)\n",
    "\n",
    "# preview & save corner plot\n",
    "saveas = todays_directory + '/120066_corner.pdf'\n",
    "\n",
    "Corner = mcmc_plots.CornerPlot(post, df, saveplot= saveas)\n",
    "Corner.plot()"
   ]
  },
  {
   "cell_type": "markdown",
   "metadata": {
    "nbpresent": {
     "id": "c572a0e5-1af7-4b67-bead-ec66ba65f5f1"
    }
   },
   "source": [
    "### Prior Comparison Figure"
   ]
  },
  {
   "cell_type": "code",
   "execution_count": null,
   "metadata": {
    "nbpresent": {
     "id": "9816c171-3f04-4143-ac5f-d7a7bc5470a1"
    }
   },
   "outputs": [],
   "source": [
    "# read in results from radvel runs using different period priors\n",
    "linear_chains_file_name = os.path.join(\n",
    "    os.environ['HOME'] + '/Dropbox/planet-pi/' \n",
    "    + today + '/linearP/','120066_chains.csv.tar.bz2'\n",
    ")\n",
    "log_chains_file_name = os.path.join(\n",
    "    os.environ['HOME'] + '/Dropbox/planet-pi/' \n",
    "    + today + '/logP/','120066_chains.csv.tar.bz2'\n",
    ")\n",
    "\n",
    "# read in chains\n",
    "linP_df = pd.read_csv(linear_chains_file_name, compression='bz2')\n",
    "logP_df = pd.read_csv(log_chains_file_name, compression='bz2')\n",
    "\n",
    "per_linP_yrs = linP_df.per1.values/365.25\n",
    "per_logP_yrs = np.exp(logP_df.logper1.values)/365.25"
   ]
  },
  {
   "cell_type": "code",
   "execution_count": null,
   "metadata": {
    "nbpresent": {
     "id": "61416e83-c6ac-4ccf-8609-e7d232fe0433"
    }
   },
   "outputs": [],
   "source": [
    "rc('font',size=12)\n",
    "\n",
    "fig = plt.figure(figsize=(5,4))\n",
    "plt.hist(per_linP_yrs, label='uniform in P', bins=50, color='black', density=True, histtype='step', linestyle='--')\n",
    "plt.hist(per_logP_yrs, label=\"uniform in logP\", bins=50, color='grey', density=True, alpha=.3)\n",
    "plt.hist(per_yr, label='inf. baseline prior', bins=50, color='red', density=True, histtype='step')\n",
    "\n",
    "plt.xlabel('period [yr]')\n",
    "plt.tick_params(labelleft='off') \n",
    "plt.xlim([25,250])\n",
    "plt.legend()\n",
    "fig.tight_layout()\n",
    "\n",
    "plt.savefig(todays_directory + '/prior_comparison.pdf', dpi=250)"
   ]
  },
  {
   "cell_type": "markdown",
   "metadata": {},
   "source": [
    "### Prior Comparison Table"
   ]
  },
  {
   "cell_type": "code",
   "execution_count": null,
   "metadata": {},
   "outputs": [],
   "source": [
    "def get_per_str(post):\n",
    "    \n",
    "    quantiles = np.quantile(post, [.34,.5,.68])\n",
    "    line = '${}^{{+{}}}_{{-{}}}$'.format(\n",
    "        format(quantiles[1], '.{}f'.format(0)),\n",
    "        format(quantiles[2] - quantiles[1], '.{}f'.format(0)),\n",
    "        format(quantiles[1] - quantiles[0], '.{}f'.format(0)),\n",
    "    )\n",
    "    \n",
    "    return line\n",
    "\n",
    "with open(\"{}/prior_comp.tex\".format(todays_directory),\"w+\") as f: \n",
    "    line = 'uniform in P & {} yr \\\\\\\\'.format(get_per_str(per_linP_yrs))\n",
    "    f.write(line)\n",
    "    line = 'uniform in logP & {} yr \\\\\\\\'.format(get_per_str(per_logP_yrs))\n",
    "    f.write(line)\n",
    "    line = 'inf. baseline prior (adopted) & {} yr \\\\\\\\'.format(get_per_str(per_yr))\n",
    "    f.write(line)\n",
    "f.close()"
   ]
  },
  {
   "cell_type": "markdown",
   "metadata": {},
   "source": [
    "### Post-2017 Fit Comparison Figure"
   ]
  },
  {
   "cell_type": "code",
   "execution_count": null,
   "metadata": {},
   "outputs": [],
   "source": [
    "post17_chains_file_name = os.path.join(\n",
    "    os.environ['HOME'] + '/Dropbox/planet-pi/' \n",
    "    + today + '/recent_only/','120066_chains.csv.tar.bz2'\n",
    ")\n",
    "\n",
    "post17_df = pd.read_csv(post17_chains_file_name, compression='bz2')\n",
    "per_post17_yrs = np.exp(post17_df['logper1'])/365.25\n",
    "ecc_post17 = np.sqrt(post17_df['secosw1']**2 + post17_df['sesinw1']**2)"
   ]
  },
  {
   "cell_type": "code",
   "execution_count": null,
   "metadata": {},
   "outputs": [],
   "source": [
    "fig, ax = plt.subplots(2,1, figsize=(5,8))\n",
    "ax[0].hist(per_yr, bins=50, color='grey', density=True, alpha=.3, label='Adopted Model')\n",
    "ax[0].hist(per_post17_yrs, bins=50, color='red', density=True, histtype='step', label='Recent Data Only')\n",
    "ax[1].hist(ecc, bins=50, color='grey', density=True, alpha=.3)\n",
    "ax[1].hist(ecc_post17, bins=50, color='red', density=True, histtype='step')\n",
    "           \n",
    "ax[0].legend()\n",
    "ax[0].set_yticks([]); ax[1].set_yticks([])\n",
    "ax[0].set_xlabel('Period [yr]'); ax[1].set_xlabel('e')\n",
    "\n",
    "plt.tight_layout()\n",
    "plt.savefig(todays_directory + '/info_density.pdf', dpi=250)"
   ]
  },
  {
   "cell_type": "markdown",
   "metadata": {},
   "source": [
    "### Long Period Comparison Calculation"
   ]
  },
  {
   "cell_type": "code",
   "execution_count": null,
   "metadata": {},
   "outputs": [],
   "source": [
    "# restore a model calculated enforcing a 200 yr period\n",
    "longP_post_file_name = os.path.join(\n",
    "    os.environ['HOME'] + '/Dropbox/120066_radvel/' \n",
    "    + today + '/longP/','120066_post_obj.pkl'\n",
    ")\n",
    "logP_post_file_name = os.path.join(\n",
    "    os.environ['HOME'] + '/Dropbox/120066_radvel/' \n",
    "    + today + '/logP/','120066_post_obj.pkl'\n",
    ")\n",
    "\n",
    "longP_post = radvel.posterior.load(longP_post_file_name)\n",
    "logP_post = radvel.posterior.load(logP_post_file_name)\n",
    "\n",
    "# construct orbit model & predict RV values\n",
    "times = np.linspace(10000, 18600, 1000)\n",
    "longP_rv_predictions = longP_post.likelihood.model(times)\n",
    "logP_rv_predictions = logP_post.likelihood.model(times)\n",
    "\n",
    "\n",
    "diff = longP_rv_predictions + longP_post.params['gamma_m'].value - logP_rv_predictions - logP_post.params['gamma_m'].value\n",
    "plt.plot(times, diff)\n",
    "\n",
    "plt.xlim(np.min(times), np.max(times))\n",
    "ax=plt.gca()\n",
    "ax.axhline()"
   ]
  },
  {
   "cell_type": "markdown",
   "metadata": {},
   "source": [
    "### Gamma Dot Model Comparison"
   ]
  },
  {
   "cell_type": "code",
   "execution_count": 6,
   "metadata": {},
   "outputs": [],
   "source": [
    "gammadot_chains_file_name = os.path.join(\n",
    "    os.environ['HOME'] + '/Dropbox/planet-pi/' \n",
    "    + today + '/dvdt/','120066_chains.csv.tar.bz2'\n",
    ")\n",
    "\n",
    "gammadot_df = pd.read_csv(gammadot_chains_file_name, compression='bz2')\n",
    "dvdt_msyr = gammadot_df['dvdt']*365.25\n",
    "per_gammadot = np.exp(gammadot_df['logper1'])/365.25\n",
    "ecc_gammadot = np.sqrt(gammadot_df['secosw1']**2 + gammadot_df['sesinw1']**2)"
   ]
  },
  {
   "cell_type": "code",
   "execution_count": 12,
   "metadata": {},
   "outputs": [],
   "source": [
    "# calculate BIC for gammadot model and adopted model\n",
    "gammadot_post_file_name = os.path.join(\n",
    "    os.environ['HOME'] + '/Dropbox/planet-pi/' \n",
    "    + today + '/dvdt/','120066_post_obj.pkl'\n",
    ")\n",
    "\n",
    "# read in posterior object\n",
    "gammadot_post = radvel.posterior.load(gammadot_post_file_name)\n",
    "\n",
    "gammadot_bic = gammadot_post.bic()\n",
    "adopted_bic = post.bic()\n",
    "\n",
    "gammadot_aic = gammadot_post.likelihood.aic()\n",
    "adopted_aic = post.likelihood.aic()\n",
    "\n",
    "deltabic = gammadot_bic - adopted_bic\n",
    "deltaaic = gammadot_aic - adopted_aic"
   ]
  },
  {
   "cell_type": "markdown",
   "metadata": {
    "nbpresent": {
     "id": "517e91da-7b51-477c-960d-3eedf4f9b8b1"
    }
   },
   "source": [
    "### S-values"
   ]
  },
  {
   "cell_type": "code",
   "execution_count": null,
   "metadata": {
    "nbpresent": {
     "id": "f47d5360-3ec4-4965-8394-4b88f8912fea"
    }
   },
   "outputs": [],
   "source": [
    "rc('font',size=12)\n",
    "\n",
    "# plot S values vs time and vs residual values\n",
    "fig = plt.figure()\n",
    "plt.scatter(data_apf['time'], data_apf['SVAL'], label='APF')\n",
    "plt.scatter(data_j['time'], data_j['SVAL'], label='HIRES')\n",
    "plt.scatter(data_mcd['time'], data_mcd['SVAL'], label='MdD')\n",
    "plt.scatter(data_k['time'], data_k['SVAL'], label='HIRES (pre-upgrade)')\n",
    "\n",
    "plt.xlabel('time')\n",
    "plt.ylabel('S-value')\n",
    "plt.legend()\n",
    "\n",
    "plt.savefig(todays_directory + '/120066_sval_vs_time.pdf', dpi=250)\n",
    "\n",
    "fig = plt.figure()\n",
    "\n",
    "for like in post.likelihood.like_list:\n",
    "    if like.suffix == 'a':\n",
    "        plt.scatter(data_apf['SVAL'], like.residuals(), label='APF')\n",
    "    if like.suffix == 'j':\n",
    "        plt.scatter(data_j['SVAL'], like.residuals(), label='HIRES')\n",
    "    if like.suffix == 'k':\n",
    "        plt.scatter(data_k['SVAL'], like.residuals(), label='HIRES (pre-upgrade)')\n",
    "    if like.suffix == 'm':\n",
    "        plt.scatter(data_mcd['SVAL'], like.residuals(), label='McD')\n",
    "\n",
    "plt.xlabel('S-value')\n",
    "plt.ylabel('Residual RV (m/s)')\n",
    "plt.legend()\n",
    "\n",
    "plt.savefig(todays_directory + '/120066_sval_vs_resids.pdf', dpi=250)"
   ]
  },
  {
   "cell_type": "markdown",
   "metadata": {
    "nbpresent": {
     "id": "e42e49aa-e1f1-46f6-b6b4-a3b22ef27fcb"
    }
   },
   "source": [
    "### Solar System Comparison Plot"
   ]
  },
  {
   "cell_type": "code",
   "execution_count": null,
   "metadata": {
    "nbpresent": {
     "id": "1661d465-3c75-4da9-9b11-7306b330edc3"
    }
   },
   "outputs": [],
   "source": [
    "solarsytem_df = pd.read_csv('data/solarsystem_params.csv', comment='#')\n",
    "\n",
    "start_mjd = 57388. # 1-1-2016\n",
    "epochs = np.linspace(start_mjd,start_mjd+1e5,int(1e5))\n",
    "\n",
    "_ = plt.figure(figsize=(5,5))\n",
    "rc('font',size=12)\n",
    "\n",
    "ax = plt.gca()\n",
    "ax.set_aspect('equal', 'box')\n",
    "\n",
    "linewidth = 1\n",
    "colors = ['grey', 'red', 'purple', 'teal', 'blue']\n",
    "jupiter_radius_ratios = [0., 1., .8329, .36278, .35219]\n",
    "jupiter_mass_ratios = [0., 1., .29941, .0457346, .053953]\n",
    "\n",
    "for i in np.arange(len(solarsytem_df)-1):\n",
    "    \n",
    "    period = (solarsytem_df.sma.values[i]**(1.5))*365.25\n",
    "    max_epoch_index = (np.abs(epochs - start_mjd - period)).argmin()\n",
    "    \n",
    "    raoff, deoff, vz = calc_orbit(\n",
    "        epochs[0:max_epoch_index+1], solarsytem_df.sma.values[i], solarsytem_df.ecc.values[i], \n",
    "        np.radians(solarsytem_df.i.values[i]), np.radians(solarsytem_df.omega.values[i]), \n",
    "        np.radians(solarsytem_df.Omega.values[i]), solarsytem_df.L.values[i]/360., 1.0, 1.0\n",
    "    )\n",
    "          \n",
    "    plt.plot(raoff, deoff, color=colors[i], linewidth=linewidth, label=solarsytem_df.Name.values[i], zorder=1)\n",
    "    circle = plt.Circle(\n",
    "        (raoff[0], deoff[0]),\n",
    "        1.5*jupiter_radius_ratios[i],\n",
    "        color=colors[i]\n",
    "    )\n",
    "    ax.add_artist(circle)\n",
    "\n",
    "max_epoch_index = (np.abs(epochs - start_mjd - per_map_days)).argmin()    \n",
    "\n",
    "raoff, deoff, vz = calc_orbit(\n",
    "    epochs[0:max_epoch_index+1], sma_map, ecc_map, \n",
    "    0., omega_pl_map_rad,\n",
    "    0., tp_mjd_map/per_map_days,\n",
    "    1.0, mstar_measured\n",
    ")\n",
    "\n",
    "circle = plt.Circle(\n",
    "    (raoff[0], deoff[0]),\n",
    "    1.5,\n",
    "    color='k'\n",
    ")\n",
    "ax.add_artist(circle)\n",
    "\n",
    "ax.plot(raoff, deoff, color='black', linewidth=linewidth, label='HR 5183 b', linestyle='--')\n",
    "\n",
    "circle.set_label('inner solar system')\n",
    "\n",
    "plt.xlabel('[au]'); plt.ylabel('[au]')\n",
    "plt.xlim(-35,35); plt.ylim(-35,35)\n",
    "\n",
    "plt.savefig(todays_directory + '/120066_solarsystem_compare.pdf', dpi=250)"
   ]
  },
  {
   "cell_type": "markdown",
   "metadata": {
    "nbpresent": {
     "id": "ffe3d8c1-cdd4-464d-9d96-38a0c2fc7560"
    }
   },
   "source": [
    "### Derived Parameters Corner Plot"
   ]
  },
  {
   "cell_type": "code",
   "execution_count": null,
   "metadata": {
    "nbpresent": {
     "id": "b109731a-6d65-4579-a032-4afeda2b741c"
    }
   },
   "outputs": [],
   "source": [
    "# make a corner plots of the derived parameters\n",
    "f = rcParams['font.size']\n",
    "rcParams['font.size'] = 12\n",
    "\n",
    "to_plot = np.zeros((chain_length,7))\n",
    "to_plot[:,0] = tp\n",
    "to_plot[:,1] = per_yr\n",
    "to_plot[:,2] = msini\n",
    "to_plot[:,3] = sma\n",
    "to_plot[:,4] = peri_dist\n",
    "to_plot[:,5] = ecc\n",
    "to_plot[:,6] = omega_deg\n",
    "\n",
    "_ = corner.corner(\n",
    "    to_plot, labels=[\n",
    "        \"T$_{\\\\rm P}$ [JD - 2440000]\",\"P [yr]\",\"M$\\\\sini$ [M$_J$]\",\"a [au]\", \"a(1-e) [au]\", \"e\", \"$\\\\omega$ [deg]\"\n",
    "    ],\n",
    "    label_kwargs={\"fontsize\": 14}, \n",
    "    plot_datapoints=False, bins=30, quantiles=[0.16, 0.50, 0.84],\n",
    "    smooth=True\n",
    ")\n",
    "\n",
    "saveas = todays_directory + '/120066_derived.pdf'\n",
    "\n",
    "plt.savefig(saveas, dpi=250)\n",
    "\n",
    "rcParams['font.size'] = f"
   ]
  },
  {
   "cell_type": "markdown",
   "metadata": {
    "nbpresent": {
     "id": "337edfd0-d64c-4673-895e-edb72814fd28"
    }
   },
   "source": [
    "## Separation Prediction"
   ]
  },
  {
   "cell_type": "markdown",
   "metadata": {},
   "source": [
    "### Compute Params Relevant to Rest of Notebook"
   ]
  },
  {
   "cell_type": "code",
   "execution_count": 14,
   "metadata": {},
   "outputs": [],
   "source": [
    "tau, _ = np.modf(tp_mjd / per_days)\n",
    "lan = np.random.random(size=len(sma))*2.*np.pi\n",
    "cosi = (2.*np.random.random(size=len(sma))) - 1.\n",
    "inc = np.arccos(cosi) \n",
    "mplanet_jup = msini / np.sin(inc)\n",
    "mplanet_sol = msini*mjup2msun / np.sin(inc)"
   ]
  },
  {
   "cell_type": "code",
   "execution_count": 15,
   "metadata": {
    "nbpresent": {
     "id": "f9fb815d-4fc5-4da0-8962-4fcd25ec2d24"
    }
   },
   "outputs": [
    {
     "name": "stdout",
     "output_type": "stream",
     "text": [
      "Probability that 120066 b is beyond 200 mas on 2020-01-01 00:00:00 : 0.061122067039106144\n",
      "Probability that 120066 b is beyond 200 mas on 2023-01-01 00:00:00 : 0.6852430167597765\n",
      "Probability that 120066 b is beyond 200 mas on 2024-01-01 00:00:00 : 0.9817446927374301\n"
     ]
    },
    {
     "data": {
      "image/png": "[encoded data removed]",
      "text/plain": [
       "<Figure size 360x273.6 with 1 Axes>"
      ]
     },
     "metadata": {
      "needs_background": "light"
     },
     "output_type": "display_data"
    }
   ],
   "source": [
    "# make a histogram of predicted separations on a given date\n",
    "def predict_sep(epoch_of_interest, plot_results=True, num2predict=len(sma), linestyle='--'):\n",
    "    \"\"\"\n",
    "    Args:\n",
    "        epoch_of_interest (array of astropy.Time): array of length 1; date \n",
    "            at which we want to predict the separation\n",
    "        plot_results (Bool): whether or not to make a plot of the results (default: True)\n",
    "        num2predict (int): number of separations to return\n",
    "    \"\"\"\n",
    "    epoch = epoch_of_interest.jd - 2400000.5\n",
    "    \n",
    "    # returns raoff, deoff in mas\n",
    "    raoff, deoff, vz = calc_orbit(\n",
    "        epoch, sma[0:num2predict], \n",
    "        ecc[0:num2predict],\n",
    "        inc[0:num2predict], \n",
    "        omega_pl_rad[0:num2predict], \n",
    "        lan[0:num2predict], \n",
    "        tau[0:num2predict], \n",
    "        parallax[0:num2predict], mstar[0:num2predict], mass=mplanet_sol\n",
    "    )\n",
    "\n",
    "    sep = np.sqrt(raoff**2 + deoff**2)\n",
    "    \n",
    "    if plot_results:\n",
    "        n, bins = np.histogram(sep,bins=100,density=True)\n",
    "        plt.plot(bins[1:] - 0.5*(bins[1]-bins[0]), n, label=str(epoch_of_interest)[:-9], linestyle=linestyle)\n",
    "        plt.yticks([])\n",
    "        plt.xlabel('Projected Separation [mas]')\n",
    "        plt.legend()\n",
    "    \n",
    "    return sep\n",
    "\n",
    "def calculate_prob(sep, epoch, linestyle='--'):\n",
    "    \"\"\"\n",
    "    Calculate & print the probability that the planet will be beyond\n",
    "    `sep` (\") at `epoch`\n",
    "    \"\"\"\n",
    "    calculated_seps = predict_sep(epoch, linestyle=linestyle)\n",
    "    prob = len(calculated_seps[calculated_seps>=sep])/len(calculated_seps)\n",
    "    print(\"Probability that 120066 b is beyond {} mas on {} : {}\".format(sep, epoch, prob))\n",
    "    return prob\n",
    "\n",
    "hst_dates = [\n",
    "    Time(datetime.datetime(2004, 6, 5, 0, 0, 0),format='datetime'),\n",
    "    Time(datetime.datetime(2011, 2, 22, 0, 0, 0),format='datetime'),\n",
    "    Time(datetime.datetime(2011, 5, 3, 0, 0, 0),format='datetime'),\n",
    "    Time(datetime.datetime(2017, 3, 26, 0, 0, 0),format='datetime'),\n",
    "    Time( datetime.datetime(2017, 7, 28, 0, 0, 0),format='datetime')\n",
    "]\n",
    "\n",
    "\n",
    "_ = plt.figure(figsize=(5,3.8))\n",
    "rc('font',size=12)\n",
    "\n",
    "_ = calculate_prob(200, Time(datetime.datetime(2020, 1, 1),format='datetime'))\n",
    "_ = calculate_prob(200, Time(datetime.datetime(2023, 1, 1),format='datetime'), linestyle=':')\n",
    "_ = calculate_prob(200, Time(datetime.datetime(2024, 1, 1),format='datetime'), linestyle='-.')\n",
    "\n",
    "plt.xlim()\n",
    "\n",
    "savefig(todays_directory + '/120066_separation_predictions.pdf', dpi=250)"
   ]
  },
  {
   "cell_type": "markdown",
   "metadata": {
    "nbpresent": {
     "id": "a05995bf-282c-4f68-8513-29f2a38c9d13"
    }
   },
   "source": [
    "### Lambertian Contrast Prediction"
   ]
  },
  {
   "cell_type": "code",
   "execution_count": 16,
   "metadata": {
    "nbpresent": {
     "id": "2cb3a431-7cdf-4635-94d3-1d5281053471"
    },
    "scrolled": true
   },
   "outputs": [
    {
     "data": {
      "image/png": "[encoded data removed]",
      "text/plain": [
       "<Figure size 360x273.6 with 2 Axes>"
      ]
     },
     "metadata": {
      "needs_background": "light"
     },
     "output_type": "display_data"
    }
   ],
   "source": [
    "wfirst_launch = Time(2025.0, format='decimalyear') # estimated WFIRST launch date\n",
    "\n",
    "wfirst_separations = predict_sep(wfirst_launch, plot_results=False)\n",
    "\n",
    "proj_sep = wfirst_separations/parallax # [au]\n",
    "\n",
    "flux_ratios, phase_angs = lambc.calculate_lambertian_contrast(\n",
    "    wfirst_launch, sma, ecc, omega_pl_rad, inc, tau, mstar, proj_sep\n",
    ")\n",
    "\n",
    "counts, xbins, log_ybins = np.histogram2d(wfirst_separations, np.log10(flux_ratios), bins=20)\n",
    "ybins=10**(log_ybins)\n",
    "counts = np.ma.masked_where(counts==0, counts)\n",
    "cmap = plt.cm.binary\n",
    "cmap.set_bad(color='white')\n",
    "\n",
    "fig, ax = plt.subplots(figsize=(5,3.8))\n",
    "rc('font',size=12)\n",
    "\n",
    "plt.pcolormesh(xbins, ybins, counts.T/np.sum(counts.T), cmap=cmap)\n",
    "\n",
    "ax = plt.gca()\n",
    "ax.set_yscale('log')\n",
    "\n",
    "plt.xlabel('Projected Separation [mas]')\n",
    "plt.ylabel('Contrast (reflected vis. light)')\n",
    "cbar = plt.colorbar()\n",
    "\n",
    "# read in predicted WFIRST imaging values\n",
    "lambda_d, contrast = np.transpose(np.loadtxt('data/WFIRST_pred_imaging.txt'))[0:2]\n",
    "\n",
    "D_wfirst = 2.4 # [m]\n",
    "lambda_used = 575e-9 # [nm]\n",
    "\n",
    "# calculate WFIRST contrast curve separations [mas]\n",
    "sep = 1e3*rad2as*lambda_d*lambda_used/D_wfirst\n",
    "\n",
    "plt.plot(sep, contrast, color='red', label='WFIRST CGI',linewidth=5)\n",
    "plt.plot([.05*1e3, 2*1e3],[1e-10, 1e-10], label='HabEx/LUVOIR', color='red',linestyle=':',linewidth=3)\n",
    "\n",
    "plt.legend(fontsize=10, loc='lower right')\n",
    "plt.ylim(8e-13,2e-9)\n",
    "plt.xlim(50,600)\n",
    "fig.tight_layout()\n",
    "\n",
    "plt.savefig(todays_directory + '/120066_vis_contrast_predictions.pdf', dpi=250)"
   ]
  },
  {
   "cell_type": "markdown",
   "metadata": {},
   "source": [
    "### Thermal Contrast Prediction"
   ]
  },
  {
   "cell_type": "code",
   "execution_count": null,
   "metadata": {},
   "outputs": [],
   "source": [
    "imaging_wavelen = 10.0*u.micron\n",
    "\n",
    "thermal_cont_peri = (rjup2rsun/rstar)**2 * blackbody_lambda(imaging_wavelen, T_eq_peri)/blackbody_lambda(imaging_wavelen, st_teff)\n",
    "\n",
    "elt_firstlight = Time(2025.0, format='decimalyear') # estimated ELT first light date\n",
    "elt_separations = predict_sep(elt_firstlight, plot_results=False)\n",
    "\n",
    "fig, ax = plt.subplots(figsize=(5,3.8))\n",
    "ax.set_yscale('log')\n",
    "\n",
    "rc('font',size=12)\n",
    "cmap = plt.cm.binary\n",
    "cmap.set_bad(color='white')\n",
    "for contrast in [thermal_cont_peri]:\n",
    "\n",
    "    counts, xbins, log_ybins = np.histogram2d(elt_separations, np.log10(contrast), bins=20)\n",
    "    ybins=10**(log_ybins)\n",
    "\n",
    "    counts = np.ma.masked_where(counts==0, counts)\n",
    "    plt.pcolormesh(xbins, ybins, counts.T/np.sum(counts.T), cmap=cmap)\n",
    "\n",
    "plt.xlabel('Projected Separation [mas]')\n",
    "plt.ylabel('Contrast @ {} $\\\\mu$m'.format(int(imaging_wavelen.value)))\n",
    "cbar = plt.colorbar()\n",
    "\n",
    "# overplot GPI & SPHERE contrast\n",
    "gpi_data = np.transpose(np.loadtxt('data/gpi_contrast_Ltype.txt'))\n",
    "gpi_sep = gpi_data[0]*1e3 # [mas]\n",
    "gpi_cont = gpi_data[2]\n",
    "\n",
    "gpi_data_t = np.transpose(np.loadtxt('data/gpi_contrast_Ttype.txt'))\n",
    "gpi_sep_t = gpi_data_t[0]*1e3 # [mas]\n",
    "gpi_cont_t = gpi_data_t[2]\n",
    "\n",
    "sphere_data = np.transpose(np.loadtxt('data/sphere_contrast.txt'))\n",
    "sphere_sep = sphere_data[0]*1e3 # [mas]\n",
    "sphere_cont = 10**(-sphere_data[1]/(100**(1/5))) # convert from delta mag to contrast\n",
    "\n",
    "plt.plot(gpi_sep, gpi_cont, color='red', label='GPI (T-type)')\n",
    "plt.plot(gpi_sep_t, gpi_cont_t, color='red', linestyle='-.', label='GPI (L-type)')#,linewidth=3)\n",
    "plt.plot(sphere_sep, sphere_cont, color='red', linestyle='--', label='SPHERE')#,linewidth=3)\n",
    "plt.xlim(150,600)\n",
    "plt.ylim(1e-7,5e-6)\n",
    "fig.tight_layout()\n",
    "\n",
    "plt.legend()\n",
    "\n",
    "plt.savefig(todays_directory + '/120066_ir_contrast_predictions.pdf', dpi=250)"
   ]
  },
  {
   "cell_type": "markdown",
   "metadata": {
    "nbpresent": {
     "id": "207dec01-c5d9-41a9-bb0b-580000977300"
    }
   },
   "source": [
    "### Gaia Prediction"
   ]
  },
  {
   "cell_type": "code",
   "execution_count": null,
   "metadata": {
    "nbpresent": {
     "id": "352c228d-d7d9-449a-b7ee-639001970594"
    }
   },
   "outputs": [],
   "source": [
    "start_date = radvel.date2jd(datetime.datetime(2015, 1, 1, 0, 0, 0)) - 2400000.5\n",
    "end_date = radvel.date2jd(datetime.datetime(2022, 12, 31, 0, 0, 0)) - 2400000.5\n",
    "n_epochs = 2000\n",
    "gaia_epochs = np.linspace(start_date, end_date, n_epochs)\n",
    "\n",
    "def predict_gaia_orbits(n_orbits):\n",
    "    \"\"\"\n",
    "    Args:\n",
    "        n_orbits (int): number of predicted Gaia orbits to plot\n",
    "    \"\"\"\n",
    "    \n",
    "    choose = np.random.randint(0, high=chain_length-1, size=n_orbits)\n",
    "    \n",
    "    # calculate orbits over the full orbital periods\n",
    "    raoff = np.zeros((n_orbits, n_epochs))\n",
    "    deoff = np.zeros((n_orbits, n_epochs))\n",
    "    for i in np.arange(n_orbits):\n",
    "        epochs = np.linspace(start_date, float(start_date+per_days[choose[i]]*1.001), n_epochs)\n",
    "        ra_off, de_off, vz = calc_orbit(\n",
    "            epochs, sma[choose[i]], ecc[choose[i]], inc[choose[i]], omega_pl_rad[choose[i]], lan[choose[i]], \n",
    "            tau[choose[i]], parallax[choose[i]], mstar[choose[i]], mass=mplanet_sol[choose[i]]\n",
    "        )\n",
    "        raoff[i,:] = ra_off\n",
    "        deoff[i,:] = de_off\n",
    "    \n",
    "    astrometric_ra = np.zeros((n_orbits, n_epochs))\n",
    "    astrometric_dec = np.zeros((n_orbits, n_epochs))\n",
    "\n",
    "    for i in np.arange(n_epochs):\n",
    "        astrometric_ra[:,i] = -raoff[:,i]*mplanet_sol[choose]/mstar[choose]\n",
    "        astrometric_dec[:,i] = -deoff[:,i]*mplanet_sol[choose]/mstar[choose]\n",
    "      \n",
    "    # calculate orbits over the Gaia timescale\n",
    "    raoff_partial = np.zeros((n_orbits, n_epochs))\n",
    "    deoff_partial = np.zeros((n_orbits, n_epochs))\n",
    "    for i in np.arange(n_orbits):\n",
    "        ra_off, de_off, vz = calc_orbit(\n",
    "            gaia_epochs, sma[choose[i]], ecc[choose[i]], inc[choose[i]], omega_pl_rad[choose[i]], lan[choose[i]],\n",
    "            tau[choose[i]], parallax[choose[i]], mstar[choose[i]], mass=mplanet_sol[choose[i]]\n",
    "        )\n",
    "        raoff_partial[i,:] = ra_off\n",
    "        deoff_partial[i,:] = de_off\n",
    "    \n",
    "    astrometric_ra_partial = np.zeros((n_orbits, n_epochs))\n",
    "    astrometric_dec_partial = np.zeros((n_orbits, n_epochs))\n",
    "\n",
    "    for i in np.arange(n_epochs):\n",
    "        astrometric_ra_partial[:,i] = -raoff_partial[:,i]*mplanet_sol[choose]/mstar[choose]\n",
    "        astrometric_dec_partial[:,i] = -deoff_partial[:,i]*mplanet_sol[choose]/mstar[choose]\n",
    "\n",
    "        \n",
    "    return astrometric_ra, astrometric_dec, astrometric_ra_partial, astrometric_dec_partial, mplanet_sol[choose]\n",
    "\n",
    "ra, dec, ra_p, dec_p, mplanet_returned = predict_gaia_orbits(1000)"
   ]
  },
  {
   "cell_type": "markdown",
   "metadata": {
    "nbpresent": {
     "id": "a676fd16-d582-47f5-b3af-80d428ca663d"
    }
   },
   "source": [
    "### Number of Orbits Detectable by Gaia"
   ]
  },
  {
   "cell_type": "code",
   "execution_count": null,
   "metadata": {
    "nbpresent": {
     "id": "c0b14784-27be-4d64-a0a7-248de65e76be"
    }
   },
   "outputs": [],
   "source": [
    "gaia_unc = .035 # current astrometric uncertainty on HR 5183 in Gaia catalogue [mas]\n",
    "\n",
    "max_residual_array = np.empty(len(ra_p[:,0]))\n",
    "\n",
    "# fit straight lines to all predicted orbits\n",
    "for i in np.arange(len(ra_p[:,0])):\n",
    "    ra_fit_vector = np.polyfit(gaia_epochs, ra_p[i,:], 1)\n",
    "    dec_fit_vector = np.polyfit(gaia_epochs, dec_p[i,:], 1)\n",
    "    \n",
    "    ra_fit_coords = ra_fit_vector[1] + ra_fit_vector[0]*gaia_epochs\n",
    "    dec_fit_coords = dec_fit_vector[1] + dec_fit_vector[0]*gaia_epochs\n",
    "    \n",
    "    # subtract orbit from straight line fit, take absolute value\n",
    "    resids_ra = np.abs(ra_p[i,:] - ra_fit_coords)\n",
    "    resids_dec = np.abs(dec_p[i,:] - dec_fit_coords)\n",
    "    \n",
    "    # get maximum absolute distance from straight line fit\n",
    "    max_ra_resid = np.max(resids_ra)\n",
    "    max_dec_resid = np.max(resids_dec)\n",
    "    max_resid = np.max([max_ra_resid,max_dec_resid])\n",
    "    max_residual_array[i] = max_resid\n",
    "    \n",
    "# if maximum distance in RA or Dec is more than 5xGaia uncertainty, count the orbit detectable by Gaia\n",
    "detectable_indices = np.where(max_residual_array >= 5.*gaia_unc)[0]\n",
    "print(\n",
    "    \"Percentage of orbits detectable by Gaia = {}%\".format(\n",
    "        100.*float(len(detectable_indices))/float(len(ra_p[:,0]))\n",
    "    )\n",
    ")\n",
    "\n",
    "gaia_detection_percentage = 100.*float(len(detectable_indices))/float(len(ra_p[:,0]))"
   ]
  },
  {
   "cell_type": "markdown",
   "metadata": {
    "nbpresent": {
     "id": "2ff6e6b1-80d3-48fb-bc99-634fabae5cea"
    }
   },
   "source": [
    "### Representative Gaia Orbits Plot"
   ]
  },
  {
   "cell_type": "code",
   "execution_count": null,
   "metadata": {
    "nbpresent": {
     "id": "2c96841b-1a3f-472e-9899-fbfca9bc7ee9"
    }
   },
   "outputs": [],
   "source": [
    "rcParams['font.size'] = 12\n",
    "\n",
    "num2plot = 10\n",
    "\n",
    "fig, ax = plt.subplots(2,1, sharex=True)\n",
    "fig.subplots_adjust(hspace=0)    \n",
    "    \n",
    "# plot non-detectable orbits\n",
    "for i in np.arange(len(ra_p[0:2*num2plot,0])):\n",
    "    if i not in detectable_indices:\n",
    "        ax[0].plot(gaia_epochs, ra_p[i,:] - ra_p[i,0], color='grey',  alpha=0.25)\n",
    "        ax[1].plot(gaia_epochs, dec_p[i,:] - dec_p[i,0], color='grey', alpha=0.25)    \n",
    "\n",
    "# plot detectable orbits\n",
    "for num, i in enumerate(detectable_indices[0:num2plot]):\n",
    "    ax[0].plot(gaia_epochs, ra_p[i,:] - ra_p[i,0])\n",
    "    ax[1].plot(gaia_epochs, dec_p[i,:] - dec_p[i,0])\n",
    "    \n",
    "ax[0].set_ylabel('$\\Delta$RA (mas)')\n",
    "ax[1].set_ylabel('$\\Delta$Dec (mas)')\n",
    "ax[1].set_xlabel('JD - 2400000.5')\n",
    "\n",
    "savefig(todays_directory + '/120066_gaia_detectable_orbits.pdf', dpi=250)"
   ]
  },
  {
   "cell_type": "markdown",
   "metadata": {
    "nbpresent": {
     "id": "262d620b-a58d-44e8-8dd7-13789f4582f6"
    }
   },
   "source": [
    "### Histogram of Gaia Residuals Plot"
   ]
  },
  {
   "cell_type": "code",
   "execution_count": null,
   "metadata": {
    "nbpresent": {
     "id": "431521d2-23e4-422e-bf78-e2e2aa46b58d"
    }
   },
   "outputs": [],
   "source": [
    "bins = 50\n",
    "\n",
    "plt.figure(); ax = plt.gca()\n",
    "vals, _, _ = plt.hist(max_residual_array, bins=bins, range=(0,2), color='grey', alpha=.5, density=True)\n",
    "plt.xlim([0,2]); plt.ylim([0, 1.1*max(vals)])\n",
    "plt.vlines(gaia_unc, linestyle='--', ymin=0, ymax=5*max(vals), color='red')\n",
    "plt.vlines(5.*gaia_unc, linestyle='--', ymin=0, ymax=5*max(vals), color='red')\n",
    "plt.vlines(10.*gaia_unc, linestyle='--', ymin=0, ymax=5*max(vals), color='red')\n",
    "plt.xlabel('Residual [\"]'); plt.yticks([])\n",
    "savefig(todays_directory + '/120066_gaia_residuals.pdf', dpi=250)"
   ]
  },
  {
   "cell_type": "markdown",
   "metadata": {
    "nbpresent": {
     "id": "a76454f2-8c16-4ba1-977e-2f7678d22f2e"
    }
   },
   "source": [
    "### Fireworks Plot"
   ]
  },
  {
   "cell_type": "code",
   "execution_count": null,
   "metadata": {
    "nbpresent": {
     "id": "e4cfa9ee-f6d3-4cf4-85a8-a9314a3cb995"
    }
   },
   "outputs": [],
   "source": [
    "rcParams['font.size'] = 12\n",
    "\n",
    "numorbits2plot = 15\n",
    "\n",
    "fig = plt.figure(figsize=(10,10)); ax = plt.gca()\n",
    "for i in np.arange(numorbits2plot):\n",
    "    plt.plot(ra[i,:],dec[i,:], color='grey', linewidth=0.2)\n",
    "\n",
    "norm = mpl.colors.Normalize(\n",
    "    vmin=Time(gaia_epochs[0],format='mjd').decimalyear, \n",
    "    vmax=Time(gaia_epochs[-1],format='mjd').decimalyear\n",
    ")\n",
    "\n",
    "for i in np.arange(numorbits2plot):\n",
    "    points = np.array([ra_p[i,:], dec_p[i,:]]).T.reshape(-1,1,2)\n",
    "    segments = np.concatenate([points[:-1], points[1:]], axis=1)\n",
    "    lc = LineCollection(\n",
    "        segments, norm=norm, linewidth=3.0, cmap=cm.inferno, zorder=3\n",
    "    )\n",
    "    lc.set_array(Time(gaia_epochs,format='mjd').decimalyear),\n",
    "    ax.add_collection(lc)\n",
    "\n",
    "ax.set_aspect('equal', 'box')\n",
    "ax.set_xlim([-3,3])\n",
    "ax.set_ylim([-3,3])\n",
    "ax.set_xlabel('$\\Delta$RA (mas)')\n",
    "ax.set_ylabel('$\\Delta$Dec (mas)')\n",
    "ax.locator_params(axis='x', nbins=6)\n",
    "ax.locator_params(axis='y', nbins=6)\n",
    "axcb = fig.colorbar(lc)\n",
    "\n",
    "savefig(todays_directory + '/120066_gaia_predictions.pdf', dpi=250)"
   ]
  },
  {
   "cell_type": "markdown",
   "metadata": {
    "nbpresent": {
     "id": "1169d508-d707-4133-b015-285e857216c6"
    }
   },
   "source": [
    "# Make Some Tables"
   ]
  },
  {
   "cell_type": "markdown",
   "metadata": {
    "nbpresent": {
     "id": "dc7dd53b-037c-4dda-8716-87da35a67c19"
    }
   },
   "source": [
    "### Print Nicely Formatted Values for Planet Params Table"
   ]
  },
  {
   "cell_type": "code",
   "execution_count": 20,
   "metadata": {
    "nbpresent": {
     "id": "e4599c97-1914-47be-ad2c-f560c715665c"
    }
   },
   "outputs": [
    {
     "name": "stdout",
     "output_type": "stream",
     "text": [
      "\\newcommand{\\period}{$73^{+14}_{-10}$}\n",
      "\\newcommand{\\gammaK}{$-52.48^{+0.60}_{-0.56}$}\n",
      "\\newcommand{\\gammaJ}{$-52.31^{+0.88}_{-0.79}$}\n",
      "\\newcommand{\\gammaM}{$-19.00^{+0.85}_{-0.79}$}\n",
      "\\newcommand{\\gammaA}{$-47.35^{+0.91}_{-0.84}$}\n",
      "\\newcommand{\\jitK}{$3.35^{+0.35}_{-0.27}$}\n",
      "\\newcommand{\\jitJ}{$3.32^{+0.20}_{-0.16}$}\n",
      "\\newcommand{\\jitM}{$5.77^{+0.27}_{-0.23}$}\n",
      "\\newcommand{\\jitA}{$3.72^{+0.23}_{-0.19}$}\n",
      "\\newcommand{\\logper}{$10.19^{+0.17}_{-0.14}$}\n",
      "\\newcommand{\\tconj}{$18966.79^{+22.14}_{-18.38}$}\n",
      "\\newcommand{\\sesinw}{$-0.32\\pm0.01$}\n",
      "\\newcommand{\\secosw}{$0.86\\pm0.01$}\n",
      "\\newcommand{\\logK}{$3.64\\pm0.01$}\n",
      "\\newcommand{\\aop}{$2.79\\pm0.00$}\n",
      "\\newcommand{\\msini}{$3.23^{+0.07}_{-0.06}$}\n",
      "\\newcommand{\\perioddays}{$26591^{+5001}_{-3532}$}\n",
      "\\newcommand{\\semiamp}{$38.19^{+0.26}_{-0.22}$}\n",
      "\\newcommand{\\ecc}{$0.84\\pm0.02$}\n",
      "\\newcommand{\\tp}{$58120.04^{+5.85}_{-5.13}$}\n",
      "\\newcommand{\\sma}{$18\\pm2$}\n",
      "\\newcommand{\\closestapproach}{$2.89\\pm0.04$}\n",
      "\\newcommand{\\teqperi}{$171.0^{+2.4}_{-2.1}$}\n",
      "\\newcommand{\\teqapo}{$50.6^{+3.1}_{-2.7}$}\n",
      "\\newcommand{\\phaseang}{$137^{+6}_{-7}$}\n",
      "\\newcommand{\\gammadot}{$0.16^{+0.10}_{-0.08}$}\n",
      "\\newcommand{\\gammadotper}{$64.36^{+16.58}_{-11.15}$}\n",
      "\\newcommand{\\gammadotecc}{$0.91\\pm0.01$}\n",
      "\\newcommand{\\shortper}{72}\n",
      "\\newcommand{\\nwalkers}{50}\n",
      "\\newcommand{\\nsteps}{8950}\n",
      "\\newcommand{\\nensembles}{8}\n",
      "\\newcommand{\\burnin}{3991050}\n",
      "\\newcommand{\\maxGR}{1.002}\n",
      "\\newcommand{\\minTz}{15443.9}\n",
      "\\newcommand{\\nobshires}{77}\n",
      "\\newcommand{\\nobsmcd}{175}\n",
      "\\newcommand{\\nobsapf}{95}\n",
      "\\newcommand{\\hiresbaseline}{22}\n",
      "\\newcommand{\\mcdbaseline}{20}\n",
      "\\newcommand{\\mapperiod}{71.08}\n",
      "\\newcommand{\\mapecc}{0.84}\n",
      "\\newcommand{\\deltabic}{5.3}\n",
      "\\newcommand{\\deltaaic}{1.6}\n"
     ]
    }
   ],
   "source": [
    "def print_cmd(command_name, param_arr, ndecimals=2):\n",
    "\n",
    "    quantiles = np.quantile(param_arr, [.34, .5, .68])\n",
    "\n",
    "    if np.around(quantiles[1] - quantiles[0], ndecimals) == \\\n",
    "    np.around(quantiles[2] - quantiles[1], ndecimals):\n",
    "        \n",
    "        str2print = '${}\\pm{}$'.format(\n",
    "            format(quantiles[1], '.{}f'.format(ndecimals)),\n",
    "            format(quantiles[1] - quantiles[0], '.{}f'.format(ndecimals))\n",
    "        )\n",
    "        \n",
    "    else:\n",
    "        \n",
    "        str2print = '${}^{{+{}}}_{{-{}}}$'.format(\n",
    "            format(quantiles[1], '.{}f'.format(ndecimals)),\n",
    "            format(quantiles[2] - quantiles[1], '.{}f'.format(ndecimals)),\n",
    "            format(quantiles[1] - quantiles[0], '.{}f'.format(ndecimals))\n",
    "        )        \n",
    "        \n",
    "    return '\\\\newcommand{{\\\\{}}}{{{}}}'.format(command_name, str2print)\n",
    "\n",
    "status_file = '{}/120066_radvel.stat'.format(todays_directory)\n",
    "status = load_status(status_file)\n",
    "nwalkers = status.getint('mcmc', 'nwalkers')\n",
    "nensembles = status.getint('mcmc', 'nensembles')\n",
    "nsteps = int(df.values.shape[0]/(8*nwalkers))\n",
    "burnin = int(status.getfloat('mcmc', 'nsteps')) - nsteps\n",
    "mintz = status.getfloat('mcmc', 'minTz')\n",
    "maxGR = status.getfloat('mcmc', 'maxGR')\n",
    "nobs_hires = len(data[(data.tel == 'j') | (data.tel == 'k')])\n",
    "nobs_mcd = len(data[data.tel == 'm'])\n",
    "nobs_apf = len(data[data.tel == 'a'])\n",
    "\n",
    "per_str = print_cmd('period', per_yr, ndecimals=0)\n",
    "aop_str = print_cmd('aop', omega_pl_map_rad)    \n",
    "msini_str = print_cmd('msini', msini)\n",
    "per_d_str = print_cmd('perioddays', per_days, ndecimals=0)\n",
    "k_str = print_cmd('semiamp', semiamp)\n",
    "ecc_str = print_cmd('ecc', ecc)\n",
    "tp_str = print_cmd('tp', tp_mjd)\n",
    "sma_str = print_cmd('sma', sma, ndecimals=0)\n",
    "approach_str = print_cmd('closestapproach', peri_dist)\n",
    "teq_peri_str = print_cmd('teqperi', T_eq_peri, ndecimals=1)\n",
    "teq_apo_str = print_cmd('teqapo', T_eq_apo, ndecimals=1)\n",
    "phase_ang_str = print_cmd('phaseang', np.degrees(phase_angs), ndecimals=0)\n",
    "\n",
    "tc_str = print_cmd('tconj', df['tc1'].values)  \n",
    "sesinw_str = print_cmd('sesinw', df['sesinw1'].values)  \n",
    "secosw_str = print_cmd('secosw', df['secosw1'].values)  \n",
    "logK_str = print_cmd('logK', df['logk1'].values)  \n",
    "logper_str = print_cmd('logper', df['logper1'].values)  \n",
    "\n",
    "gammaK_str = print_cmd('gammaK', df['gamma_k'].values)  \n",
    "gammaJ_str = print_cmd('gammaJ', df['gamma_j'].values)  \n",
    "gammaM_str = print_cmd('gammaM', df['gamma_m'].values)  \n",
    "gammaA_str = print_cmd('gammaA', df['gamma_a'].values) \n",
    "jitK_str = print_cmd('jitK', df['jit_k'].values)  \n",
    "jitJ_str = print_cmd('jitJ', df['jit_j'].values)  \n",
    "jitM_str = print_cmd('jitM', df['jit_m'].values)  \n",
    "jitA_str = print_cmd('jitA', df['jit_a'].values) \n",
    "dvdt_str = print_cmd('gammadot', dvdt_msyr)\n",
    "dvdt_per_str = print_cmd('gammadotper', per_gammadot)\n",
    "dvdt_ecc_str = print_cmd('gammadotecc', ecc_gammadot)\n",
    "\n",
    "\n",
    "print(per_str)\n",
    "print(gammaK_str)\n",
    "print(gammaJ_str)\n",
    "print(gammaM_str)\n",
    "print(gammaA_str)\n",
    "print(jitK_str)\n",
    "print(jitJ_str)\n",
    "print(jitM_str)\n",
    "print(jitA_str)\n",
    "print(logper_str)\n",
    "print(tc_str)\n",
    "print(sesinw_str)\n",
    "print(secosw_str)\n",
    "print(logK_str)\n",
    "print(aop_str)\n",
    "print(msini_str)\n",
    "print(per_d_str)\n",
    "print(k_str)\n",
    "print(ecc_str)\n",
    "print(tp_str)\n",
    "print(sma_str)\n",
    "print(approach_str)\n",
    "print(teq_peri_str)\n",
    "print(teq_apo_str)\n",
    "print(phase_ang_str)\n",
    "print(dvdt_str)\n",
    "print(dvdt_per_str)\n",
    "print(dvdt_ecc_str)\n",
    "print('\\\\newcommand{{\\\\shortper}}{{{}}}'.format(np.int(np.median(df_synth['per1'])/365.25)))\n",
    "print('\\\\newcommand{{\\\\nwalkers}}{{{}}}'.format(nwalkers))\n",
    "print('\\\\newcommand{{\\\\nsteps}}{{{}}}'.format(nsteps))\n",
    "print('\\\\newcommand{{\\\\nensembles}}{{{}}}'.format(nensembles))\n",
    "print('\\\\newcommand{{\\\\burnin}}{{{}}}'.format(burnin))\n",
    "print('\\\\newcommand{{\\\\maxGR}}{{{}}}'.format(np.round(maxGR,3)))\n",
    "print('\\\\newcommand{{\\\\minTz}}{{{}}}'.format(np.round(mintz,1)))\n",
    "print('\\\\newcommand{{\\\\nobshires}}{{{}}}'.format(nobs_hires))\n",
    "print('\\\\newcommand{{\\\\nobsmcd}}{{{}}}'.format(nobs_mcd))\n",
    "print('\\\\newcommand{{\\\\nobsapf}}{{{}}}'.format(nobs_apf))\n",
    "print('\\\\newcommand{{\\\\hiresbaseline}}{{{}}}'.format(int((np.max(data_hires.time)-np.min(data_hires.time))/365.25)))\n",
    "print('\\\\newcommand{{\\\\mcdbaseline}}{{{}}}'.format(int((np.max(data_mcd.time)-np.min(data_mcd.time))/365.25)))\n",
    "print('\\\\newcommand{{\\\\mapperiod}}{{{}}}'.format(np.round(post.maxparams['per1']/365.25,2)))\n",
    "print('\\\\newcommand{{\\\\mapecc}}{{{}}}'.format(np.round(post.maxparams['e1'],2)))\n",
    "print('\\\\newcommand{{\\\\deltabic}}{{{}}}'.format(np.round(deltabic,1)))\n",
    "print('\\\\newcommand{{\\\\deltaaic}}{{{}}}'.format(np.round(deltaaic,1)))"
   ]
  },
  {
   "cell_type": "markdown",
   "metadata": {
    "nbpresent": {
     "id": "16a80548-6fa3-419b-b15a-a944d5824550"
    }
   },
   "source": [
    "### Table of Measurements"
   ]
  },
  {
   "cell_type": "code",
   "execution_count": null,
   "metadata": {
    "nbpresent": {
     "id": "03aaff8d-78f0-4091-b8e4-05a6798146bf"
    }
   },
   "outputs": [],
   "source": [
    "print_data = data.sort_values(\"time\")\n",
    "print_data = print_data.reset_index(drop=True)\n",
    "\n",
    "print_data.tel[print_data.tel == 'm'] = 'TULL'\n",
    "print_data.tel[print_data.tel == 'j'] = 'HIRES'\n",
    "print_data.tel[print_data.tel == 'k'] = 'HIRES \\\\tablenotemark{a}'  # pre-upgrade\n",
    "print_data.tel[print_data.tel == 'a'] = 'APF'\n",
    "\n",
    "print_data.SVAL[np.isnan(print_data.SVAL)] = \"---\\\\xspace\"\n",
    "print_data.sval_err[np.isnan(print_data.sval_err)] = \"---\\\\xspace\"\n",
    "\n",
    "print_data.sval_err[print_data.tel == 'APF'] = 0.004\n",
    "print_data.sval_err[print_data.tel == 'HIRES'] = 0.002\n",
    "\n",
    "with open(\"{}/rvs.tex\".format(todays_directory),\"w+\") as f:\n",
    "    with open(\"{}/rvs_truncated.tex\".format(todays_directory),\"w+\") as f1:\n",
    "        for i in np.arange(len(print_data)):\n",
    "            sval_round = 2\n",
    "            try:\n",
    "                if print_data.tel[i] == 'APF' or print_data.tel[i] == 'HIRES':\n",
    "                      sval_round = 3      \n",
    "                sval = np.round(print_data.SVAL[i], sval_round)\n",
    "                sval_err = np.round(print_data.sval_err[i], sval_round)\n",
    "            except TypeError:\n",
    "                sval = print_data.SVAL[i]\n",
    "                sval_err = print_data.sval_err[i]\n",
    "            line = \"${}$ & ${}$ & ${}$ & {} & {} & {}\\\\\\ \\n\".format(\n",
    "                np.round(print_data.time[i],4),\n",
    "                np.round(print_data.mnvel[i],2),\n",
    "                np.round(print_data.errvel[i],2),\n",
    "                print_data.tel[i],\n",
    "                sval,\n",
    "                sval_err\n",
    "            )\n",
    "            f.write(line)\n",
    "            if i<10:\n",
    "                f1.write(line)\n",
    "f1.close()\n",
    "f.close()"
   ]
  },
  {
   "cell_type": "markdown",
   "metadata": {
    "nbpresent": {
     "id": "3726d16c-a58c-484d-9b66-79b4b646259b"
    }
   },
   "source": [
    "# Copy Everything to Overleaf"
   ]
  },
  {
   "cell_type": "code",
   "execution_count": null,
   "metadata": {
    "nbpresent": {
     "id": "d29ead64-fb06-4704-a708-95c84d4710d6"
    }
   },
   "outputs": [],
   "source": [
    "_ = os.system(\"cp {}/*.pdf {}/Dropbox/Apps/Overleaf/120066/plots\".format(todays_directory,os.environ['HOME']))\n",
    "_ = os.system(\"cp {}/*.tex {}/Dropbox/Apps/Overleaf/120066/tables\".format(todays_directory,os.environ['HOME']))"
   ]
  }
 ],
 "metadata": {
  "kernelspec": {
   "display_name": "Python [default]",
   "language": "python",
   "name": "python3"
  },
  "language_info": {
   "codemirror_mode": {
    "name": "ipython",
    "version": 3
   },
   "file_extension": ".py",
   "mimetype": "text/x-python",
   "name": "python",
   "nbconvert_exporter": "python",
   "pygments_lexer": "ipython3",
   "version": "3.5.5"
  }
 },
 "nbformat": 4,
 "nbformat_minor": 1
}
